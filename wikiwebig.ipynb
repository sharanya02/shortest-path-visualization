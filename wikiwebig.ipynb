{
 "cells": [
  {
   "cell_type": "code",
   "execution_count": 1,
   "metadata": {},
   "outputs": [],
   "source": [
    "from pyvis.network import Network\n",
    "import networkx as nx\n",
    "import wikipediaapi\n",
    "import networkx as nx\n",
    "import json\n",
    "G = nx.Graph()\n",
    "wiki = wikipediaapi.Wikipedia('en')\n",
    "def sm_graph(page):\n",
    "    links = page.links\n",
    "    for title in sorted(links.keys()):\n",
    "        G.add_node(title, size=20, title='couple')\n",
    "        G.add_edge(page.title, title, weight=1)\n",
    "        link1= wiki.page(title).links\n",
    "        for t in sorted(link1.keys()):\n",
    "            G.add_edges_from([(title,t)])\n",
    "    return G\n"
   ]
  },
  {
   "cell_type": "code",
   "execution_count": 2,
   "metadata": {},
   "outputs": [
    {
     "name": "stdout",
     "output_type": "stream",
     "text": [
      "enter start page:Rushbrook\n",
      "enter end page:Shawl\n"
     ]
    }
   ],
   "source": [
    "start_page=input('enter start page:')\n",
    "end_page=input('enter end page:')\n",
    "\n"
   ]
  },
  {
   "cell_type": "code",
   "execution_count": 3,
   "metadata": {},
   "outputs": [
    {
     "name": "stdout",
     "output_type": "stream",
     "text": [
      "['Rushbrook', 'Selina Rushbrook', 'Shawl']\n"
     ]
    }
   ],
   "source": [
    "G1=sm_graph(wiki.page(start_page))\n",
    "k = nx.shortest_path(G1, start_page, end_page, weight='weight')\n",
    "print(k)"
   ]
  },
  {
   "cell_type": "code",
   "execution_count": 4,
   "metadata": {},
   "outputs": [],
   "source": [
    "for g in G.nodes:\n",
    "    if g in k:\n",
    "        G.node[g]['color']=\"blue\"\n",
    "        G.node[g]['size']= 30\n",
    "for i in range(0,len(k)-1):\n",
    "    G[k[i]][k[i+1]]['color'] = \"red\""
   ]
  },
  {
   "cell_type": "code",
   "execution_count": 5,
   "metadata": {},
   "outputs": [],
   "source": [
    "nt = Network(\"500px\", \"500px\")\n",
    "nt.from_nx(G1)\n",
    "nt.show(\"nx.html\")"
   ]
  },
  {
   "cell_type": "code",
   "execution_count": null,
   "metadata": {},
   "outputs": [],
   "source": []
  }
 ],
 "metadata": {
  "kernelspec": {
   "display_name": "Python 3",
   "language": "python",
   "name": "python3"
  },
  "language_info": {
   "codemirror_mode": {
    "name": "ipython",
    "version": 3
   },
   "file_extension": ".py",
   "mimetype": "text/x-python",
   "name": "python",
   "nbconvert_exporter": "python",
   "pygments_lexer": "ipython3",
   "version": "3.7.4"
  }
 },
 "nbformat": 4,
 "nbformat_minor": 2
}
